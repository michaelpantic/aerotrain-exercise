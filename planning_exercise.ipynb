{
 "cells": [
  {
   "cell_type": "markdown",
   "metadata": {},
   "source": [
    "# Sampling-based planning\n",
    "\n",
    "In this exercise, you will\n",
    "* Implement the base building blocks for a RRT planner\n",
    "* Use simple 2D occupancy maps (images)\n",
    "* Implement different sampling strategies\n",
    "* .. and play around with different maps\n"
   ]
  },
  {
   "cell_type": "code",
   "execution_count": null,
   "metadata": {},
   "outputs": [],
   "source": [
    "import numpy as np\n",
    "import matplotlib.pyplot as plt\n",
    "from matplotlib import collections  as mc\n"
   ]
  },
  {
   "cell_type": "markdown",
   "metadata": {},
   "source": [
    "# The map representation\n",
    "\n",
    "The \"SimpleOccupancyMap\" can load a png as a $2D$ occupancy grid and provides a simple API to access the map.\n",
    "\n",
    "Most important functions are demonstrated in the following.\n"
   ]
  },
  {
   "cell_type": "code",
   "execution_count": null,
   "metadata": {},
   "outputs": [],
   "source": [
    "import matplotlib.pyplot as plt\n",
    "import scipy.misc\n",
    "from scipy import ndimage\n",
    "import numpy as np\n",
    "\n",
    "#This implements a simple occupancy map based on PNG\n",
    "\n",
    "class SimpleOccupancyMap():\n",
    "\n",
    "    def __init__(self, path, online=True):\n",
    "        if online:\n",
    "            # different maps\n",
    "            map_location = \"https://raw.githubusercontent.com/michaelpantic/aerotrain-exercise/main/\"\n",
    "            path = map_location + path\n",
    "\n",
    "        self._map = plt.imread(path)[:, :, 0]\n",
    "        self._map = ndimage.rotate( self._map, -90)\n",
    "        self._freespace = np.argwhere(self._map > 0.5)\n",
    "\n",
    "        self.sampling_counter = 0\n",
    "        self.map_access_counter = 0\n",
    "        \n",
    "    def show(self):\n",
    "        plt.imshow(self._map.transpose(1,0), origin='lower', cmap=\"gray\")\n",
    "\n",
    "    # sample a random state inside the map\n",
    "    def sample_state(self):\n",
    "        self.sampling_counter+=1\n",
    "        return np.floor(np.random.uniform([0, 0], self._map.shape)).astype(int)\n",
    "\n",
    "    # sample a random free state in the map\n",
    "    def sample_valid_state(self):\n",
    "        self.sampling_counter += 1\n",
    "        ix = int(np.random.uniform(0, len(self._freespace)))\n",
    "        return self._freespace[ix, :]\n",
    "\n",
    "    # check if location is occupied\n",
    "    def is_occupied(self,x,y):\n",
    "        self.map_access_counter += 1\n",
    "        return self._map[int(x),int(y)] < 0.5\n",
    "\n",
    "    def reset_counters(self):\n",
    "        self.map_access_counter = 0\n",
    "        self.sampling_counter = 0\n",
    "\n",
    "    def print_statistics(self):\n",
    "        print(\"Samplings \" + str(self.sampling_counter))\n",
    "        print(\"Map Access \" + str(self.map_access_counter))\n"
   ]
  },
  {
   "cell_type": "markdown",
   "metadata": {},
   "source": [
    "# Example of using the map"
   ]
  },
  {
   "cell_type": "code",
   "execution_count": null,
   "metadata": {},
   "outputs": [],
   "source": [
    "# Creating a new map based on a PNG\n",
    "occupancy_map = SimpleOccupancyMap(\"simple_map.png\")\n",
    "\n",
    "# Displaying the map\n",
    "occupancy_map.show()"
   ]
  },
  {
   "cell_type": "code",
   "execution_count": null,
   "metadata": {},
   "outputs": [],
   "source": [
    "# sampling random locations in the map\n",
    "random_state = occupancy_map.sample_state()\n",
    "print(random_state)"
   ]
  },
  {
   "cell_type": "code",
   "execution_count": null,
   "metadata": {},
   "outputs": [],
   "source": [
    "# Checking if a location is occupied or not\n",
    "print(occupancy_map.is_occupied(200, 200)) # x, y"
   ]
  },
  {
   "cell_type": "markdown",
   "metadata": {},
   "source": [
    "# RRT Skeleton\n",
    "In the following, we'll provide a very simple RRT Skeleton.\n",
    "In subsequent exercises, we will extend and change this.\n",
    "\n",
    "The skeleton contains the basic algorithm as well as the needed methods (but not implemented)."
   ]
  },
  {
   "cell_type": "code",
   "execution_count": null,
   "metadata": {},
   "outputs": [],
   "source": [
    "\n",
    "class RRTSkeleton:\n",
    "    \n",
    "    def __init__(self, occ_map):\n",
    "        self._map = occ_map\n",
    "        self._valid_edges = []   # keeps all valid checked edges in format [ix_vertex_a, ix_vertex_b],\n",
    "                                 # where ix_vertex corresponds to the vertex's index in _valid_vertices\n",
    "        self._valid_vertices = []\n",
    "    \n",
    "    # Returns a random state in R^2\n",
    "    def sample_new_state(self):\n",
    "        return np.array([0.0, 0.0])\n",
    "    \n",
    "    # Returns True if state is valid (freespace in our case)\n",
    "    def is_state_valid(self, state):\n",
    "        return False\n",
    "    \n",
    "    # Returns True if straight-line segment between state_a and state_b\n",
    "    # is admissible (going through freespace)\n",
    "    def is_segment_valid(self, state_a, state_b):\n",
    "        return True\n",
    "    \n",
    "    # Returns nearest neighbour of state\n",
    "    # already present in valid_vertices\n",
    "    def get_nearest_vertex(self, state):\n",
    "        return state\n",
    "    \n",
    "    # Returns True if state is within some tolerance of the goal\n",
    "    # (to determine final state)\n",
    "    def is_goal_in_reach(self, state, goal, tolerance_in_px):\n",
    "        return np.linalg.norm(goal-state) < tolerance_in_px\n",
    "    \n",
    "    def runRRT(self, start, goal, max_iter = 6000):\n",
    "        \n",
    "        # Initialize tree storage\n",
    "        self._valid_edges = []   # keeps all valid checked edges\n",
    "        self._valid_vertices = [start]\n",
    "        \n",
    "        goal_reached = False\n",
    "        self._start = start\n",
    "        self._goal = goal\n",
    "        curr_iter = 0\n",
    "        \n",
    "        \n",
    "        while not goal_reached and curr_iter < max_iter:\n",
    "            curr_iter += 1\n",
    "    \n",
    "            new_state = self.sample_new_state()\n",
    "\n",
    "            # Ignore if state is not valid\n",
    "            if not self.is_state_valid(new_state):\n",
    "                continue\n",
    "\n",
    "            # get closest valid vertex to new_state\n",
    "            nearest_vertex_id = self.get_nearest_vertex(new_state)\n",
    "            nearest_vertex = self._valid_vertices[nearest_vertex_id]\n",
    "\n",
    "            # check if we can connect\n",
    "            if not self.is_segment_valid(new_state, nearest_vertex):\n",
    "                continue\n",
    "\n",
    "            # add new state to tree\n",
    "            self._valid_vertices.append(new_state)\n",
    "            new_state_id = len(self._valid_vertices)-1\n",
    "            self._valid_edges.append([nearest_vertex_id, new_state_id])\n",
    "\n",
    "            # if goal is close enough, terminate\n",
    "            if self.is_goal_in_reach(goal, new_state, 20):\n",
    "                goal_reached = True\n",
    "                \n",
    "            \n",
    "        print(\"RRT terminated after \" + str(curr_iter) + \" iterations.\")\n",
    "                        \n",
    "                \n",
    "    # Helper function to plot output\n",
    "    def plotRRT(self):\n",
    "        # create line collection with coordinates\n",
    "        edges_to_plot = np.array([[self._valid_vertices[edge[0]],\n",
    "                                   self._valid_vertices[edge[1]]] for edge in self._valid_edges])\n",
    "\n",
    "        lc = mc.LineCollection(edges_to_plot, linewidths=2)\n",
    "        plt.rcParams['figure.figsize'] = [20, 10]\n",
    "\n",
    "        fig, ax = plt.subplots()\n",
    "        ax.add_collection(lc)\n",
    "        ax.autoscale()\n",
    "        self._map.show()\n",
    "\n",
    "        plt.scatter(*start, s=250, c='green')\n",
    "        plt.scatter(*goal, s=250, c='red')\n",
    "\n",
    "        self._map.print_statistics()\n",
    "\n",
    "            "
   ]
  },
  {
   "cell_type": "markdown",
   "metadata": {},
   "source": [
    "# Exercise 1\n",
    "- RRTSimple is based on RRTSkeleton.\n",
    "- It is runnable, but does not do segment checking correctly.\n",
    "\n",
    "\n",
    "### Implementation task\n",
    "Implement a function that plots the found path that connects the start to the goal.\n",
    "Hint: valid_vertices and valid_edges contain the data and do not need to be changed.\n",
    "\n",
    "\n"
   ]
  },
  {
   "cell_type": "code",
   "execution_count": null,
   "metadata": {},
   "outputs": [],
   "source": [
    "#Simplest RRT\n",
    "\n",
    "class RRTSimple(RRTSkeleton):\n",
    "    \n",
    "    def __init__(self, occ_map):\n",
    "        super(RRTSimple, self).__init__(occ_map)\n",
    "        \n",
    "    def sample_new_state(self):\n",
    "        return self._map.sample_state()\n",
    "    \n",
    "    def is_state_valid(self, state):\n",
    "        return not self._map.is_occupied(*state)\n",
    "    \n",
    "    def get_nearest_vertex(self, state):\n",
    "        # get distance of each vertex in self._valid_vertices to state\n",
    "        distances = np.subtract(np.array(self._valid_vertices), state)\n",
    "        distances = np.sum(np.power(distances, 2), axis=1)\n",
    "        \n",
    "        # get vertex id corresponding to lowest distance\n",
    "        return np.argmin(distances)\n",
    "\n",
    "    \n",
    "    def plot_path(self):\n",
    "        # to be implemented\n",
    "        return\n",
    "\n",
    "\n",
    "\n",
    "occupancy_map = SimpleOccupancyMap(\"simple_map.png\")\n",
    "\n",
    "ex1 = RRTSimple(occupancy_map)\n",
    "\n",
    "\n",
    "start = np.array([10, 50])\n",
    "goal = np.array([400, 400])\n",
    "ex1.runRRT(start, goal)\n",
    "ex1.plotRRT()\n",
    "ex1.plot_path()\n",
    "plt.show()\n"
   ]
  },
  {
   "cell_type": "markdown",
   "metadata": {},
   "source": [
    "# Exercise 2a\n",
    "\n",
    "\n",
    "### Implementation task\n",
    "Implement a segment checker that uses the map's is_occupied function\n",
    "\n",
    "\n",
    "### Observation task\n",
    "How do different design choices/checking resolution in the segment checker affect performance and validity of the solution? \n",
    "The plotRRT function outputs statistics in terms of map accesses and sampled states.\n",
    "\n"
   ]
  },
  {
   "cell_type": "code",
   "execution_count": null,
   "metadata": {},
   "outputs": [],
   "source": [
    "\n",
    "class RRTCorrect(RRTSimple):\n",
    "    \n",
    "    def __init__(self, occ_map):\n",
    "        super(RRTCorrect, self).__init__(occ_map)\n",
    "        \n",
    "    def is_segment_valid(self, state_a, state_b):\n",
    "        return True\n",
    "\n",
    "    \n",
    "occupancy_map = SimpleOccupancyMap(\"simple_map.png\")\n",
    "\n",
    "ex2 = RRTCorrect(occupancy_map)\n",
    "\n",
    "\n",
    "start = np.array([10, 50])\n",
    "goal = np.array([400, 400])\n",
    "ex2.runRRT(start, goal)\n",
    "ex2.plotRRT()\n",
    "ex2.plot_path()\n",
    "plt.show()"
   ]
  },
  {
   "cell_type": "markdown",
   "metadata": {},
   "source": [
    "# Exercise 2b/c\n",
    "\n",
    "\n",
    "\n",
    "### Observation task\n",
    "How do the observations from Excercise 2a change with the following two maps?\n",
    "\n"
   ]
  },
  {
   "cell_type": "code",
   "execution_count": null,
   "metadata": {},
   "outputs": [],
   "source": [
    "\n",
    "ex2b = RRTCorrect(SimpleOccupancyMap(\"fine_map.png\"))\n",
    "\n",
    "start = np.array([10, 50])\n",
    "goal = np.array([400, 400])\n",
    "ex2b.runRRT(start, goal)\n",
    "ex2b.plotRRT()\n",
    "ex2b.plot_path()\n",
    "plt.show()"
   ]
  },
  {
   "cell_type": "code",
   "execution_count": null,
   "metadata": {
    "scrolled": true
   },
   "outputs": [],
   "source": [
    "ex2c = RRTCorrect(SimpleOccupancyMap(\"coarse_map.png\"))\n",
    "\n",
    "start = np.array([10, 50])\n",
    "goal = np.array([400, 400])\n",
    "ex2c.runRRT(start, goal)\n",
    "ex2c.plotRRT()\n",
    "ex2c.plot_path()\n",
    "plt.show()"
   ]
  },
  {
   "cell_type": "markdown",
   "metadata": {},
   "source": [
    "# Exercise 3\n",
    "\n",
    "### Observation task\n",
    "Observe the behavior of the algorithm on the following map \"dense.png\".\n",
    "\n",
    "What might be the issue and how could it be mitigated/solved?\n",
    "\n",
    "\n",
    "Let Michael know about your idea for a fix and he will, in case its correct, give you the hint to go on with exercise 4."
   ]
  },
  {
   "cell_type": "code",
   "execution_count": null,
   "metadata": {},
   "outputs": [],
   "source": [
    "ex3 = RRTCorrect(SimpleOccupancyMap(\"dense.png\"))\n",
    "\n",
    "start = np.array([10, 50])\n",
    "goal = np.array([400, 400])\n",
    "ex3.runRRT(start, goal)\n",
    "ex3.plotRRT()\n",
    "ex3.plot_path()\n",
    "plt.show()"
   ]
  },
  {
   "cell_type": "markdown",
   "metadata": {},
   "source": [
    "# Exercise 4\n",
    "\n",
    "\n",
    "### Implementation task\n",
    "Implent a fix for the issue in Exercise 3 in the following skeleton class.\n",
    "\n",
    "Hint: Only one method needs to be overwritten of the original class."
   ]
  },
  {
   "cell_type": "code",
   "execution_count": null,
   "metadata": {},
   "outputs": [],
   "source": [
    "\n",
    "class BetterRRT(RRTCorrect):\n",
    "    def __init__(self, occ_map):\n",
    "        super(BetterRRT, self).__init__(occ_map)\n",
    "        \n",
    "    \n",
    "ex4 = BetterRRT(SimpleOccupancyMap(\"dense.png\"))\n",
    "\n",
    "start = np.array([10, 50])\n",
    "goal = np.array([400, 400])\n",
    "ex4.runRRT(start, goal)\n",
    "ex4.plotRRT()\n",
    "ex4.plot_path()\n",
    "plt.show() "
   ]
  },
  {
   "cell_type": "markdown",
   "metadata": {},
   "source": [
    "# Exercise 5\n",
    "\n",
    "### Observation task\n",
    "What is the problem on the \"narrow\" map?\n",
    "\n",
    "### Implementation task (optional)\n",
    "There is an indirect mitigation for this problem. What do you think is it and how would a solution look like?"
   ]
  },
  {
   "cell_type": "code",
   "execution_count": null,
   "metadata": {},
   "outputs": [],
   "source": [
    "  \n",
    "ex5 = BetterRRT(SimpleOccupancyMap(\"narrow.png\"))\n",
    "\n",
    "start = np.array([10, 50])\n",
    "goal = np.array([400, 400])\n",
    "ex5.runRRT(start, goal)\n",
    "ex5.plotRRT()\n",
    "ex5.plot_path()\n",
    "plt.show() "
   ]
  }
 ],
 "metadata": {
  "kernelspec": {
   "display_name": "Python 3",
   "language": "python",
   "name": "python3"
  },
  "language_info": {
   "codemirror_mode": {
    "name": "ipython",
    "version": 3
   },
   "file_extension": ".py",
   "mimetype": "text/x-python",
   "name": "python",
   "nbconvert_exporter": "python",
   "pygments_lexer": "ipython3",
   "version": "3.6.9"
  }
 },
 "nbformat": 4,
 "nbformat_minor": 4
}
